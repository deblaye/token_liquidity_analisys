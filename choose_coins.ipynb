{
 "cells": [
  {
   "cell_type": "markdown",
   "id": "91cbf16e-ecc7-4fa1-907e-46a30b0a450a",
   "metadata": {
    "tags": []
   },
   "source": [
    "# I/ Selecting the coins\n",
    "   - It is important to be as exhaustive as possible, and to represent as many kind of coins/tokens as possible\n",
    "   - It will make it easy to reproduce the study on other coins/token (ex. implementing ERC20 tokens is similar on any EVM compatible chains (Ethereum, Binance Smart Chain, Avalanche...)\n",
    "   - The more representative, the more relilable will be the conclusion"
   ]
  },
  {
   "cell_type": "markdown",
   "id": "e2f157b9-b913-4ebe-8c70-baa2505cc58f",
   "metadata": {},
   "source": [
    "### 1) Identifying categories\n",
    "- DEX token (UNI, CAKE, SUSHI...)\n",
    "- Privacy (XMR, ZEC, XVG, DASH...)\n",
    "- IOT (MIOTA, IOT...)\n",
    "- Stable (USDT, USDC, BUSD, DAI...)\n",
    "- Exchange (BNB, FTT, CRO...)\n",
    "- Blockchain token (ETH, BNB, AVAX, SOL...)\n",
    "- Layer 2 token (MATIC)\n",
    "- Cross chain (DOT, ATOM...)\n",
    "- Meme coin (DOGE, SHIB...)\n",
    "- Value transfert (XRP, XLM...)\n",
    "- Metaverse/Play to earn (AXS, SAND...)\n",
    "- Lowcap"
   ]
  },
  {
   "cell_type": "markdown",
   "id": "bfecbcad-09c5-47cc-840a-7ef9dad56167",
   "metadata": {},
   "source": [
    "### 2) Choosing the coins\n",
    "- As BTC is usually consider as leader on the crypto market, it will obviously be part of that study.\n",
    "- Uniswap is still, by far, the biggest DEX by daily volume, so I assume that UNI is representative of other DEXs tokens ![title](src/pictures/dex_ranked_by_volume2.png)\n",
    "([src](https://defillama.com/dexs) 03/10/2022)\n",
    "- XMR is the main privacy coin by market cap, and the most used for actual transactions ![title](src/pictures/privacy_ranked.png)\n",
    "([src](https://www.coingecko.com/en/categories/privacy-coins) 04/10/2022)\n",
    "#### The rest of the coins have been selected according to the maketcap and the daily trading volume\n",
    "- IOT : VET\n",
    "- Stable : USDT\n",
    "- Exchange : BNB\n",
    "- Blockchain token : ETH\n",
    "- Layer 2 : MATIC\n",
    "- Cross chain : DOT\n",
    "- Meme coin : DOGE\n",
    "- Value transfert : XRP\n",
    "- Metaverse/Play to earn : SAND (As of now, MANA has a slightly higher marketcap, but SAND has a way bigger daily trading volume\n",
    "- Low cap : SUSHI, Sushiswap being a massive DEX, aggregating a lot of blockchains, this token seems relevant"
   ]
  },
  {
   "cell_type": "markdown",
   "id": "2cf7b110-6741-470e-82dd-168d55cc4c24",
   "metadata": {},
   "source": [
    "### 3) Identifying main characteristic of every coin\n",
    "| --- | CEX tradable | DEX tradable | Minable | Coin/Token | Public TX | High/Mid/Low cap | Mrkt. Cap (millionUSD) | Daily Volume (millionUSD) |\n",
    "| --- | --- | --- | --- | --- | --- | --- | --- | --- |\n",
    "| BTC | Yes | Wrapped | Yes | Coin | Yes | High | 375,699 | 28,114 |\n",
    "| UNI | Yes | Yes | No | Token | Yes | Mid | 5,166 | 180 |\n",
    "| XMR | Yes | No | Yes | Coin | No | Mid | 2,589 | 144 |\n",
    "| VET | Yes | No | Yes | Coin | Yes | Mid | 1,704 | 225 |\n",
    "| USDT | Yes | Yes | No | Token | Yes | High | 67,956 | 53,543 |\n",
    "| BNB | Yes | Yes | No | Coin | Yes | High | 46,298 | 1,339 |\n",
    "| ETH | Yes | Yes | No | Coin | Yes | High | 162,160 | 16,138 |\n",
    "| MATIC | Yes | Yes | No | Token | Yes | Mid | 7,281 | 732 |\n",
    "| DOT | Yes | No | No | Coin | Yes | Mid | 7,278 | 635 |\n",
    "| DOGE | Yes | No | Yes | Coin | Yes | High | 8,072 | 722 |\n",
    "| XRP | Yes | No | Yes | Coin | Yes | High | 24,003 | 3,742 |\n",
    "| SAND | Yes | No | No | Token | Yes | Mid | 1,270 | 454 |\n",
    "| SUSHI | Yes | Yes | No | Token | Yes | Low | 141 | 132 |\n",
    "\n",
    "###### Notes : \n",
    "###### High cap : top 10 Coinmarketcap ; Mid cap : top 100 ; Low cap : under top 100\n",
    "###### Even if some coins/token are tradable on DEXs (example, XRP is tradable on Pancakeswap), if no DEX appear on the top 20 exchanges in the exchange list on Coinmarketcap, they are considered as not DEX tradable\n",
    "###### Source : [Coinmarketcap](https://coinmarketcap.com/) 04/10/2022"
   ]
  },
  {
   "cell_type": "markdown",
   "id": "0ebffce2-e0c0-4fdc-8214-2e1af330e1db",
   "metadata": {},
   "source": [
    "TODO : \n",
    "   - (Done) Daily volume must be a mean instead of a snapshot\n",
    "   - Write the precise goal of this research, what will be observed, why, how and make assomptions regarding the outcome\n",
    "   - Group the coin by query data methods\n",
    "       - ERC20 / EVM compatible coins : WBTC, UNI, USDT, BNB, ETH, MATIC, SAND, SUSHI\n",
    "       - CEX : all of them\n",
    "   - Write code to gather data from both sources (a connexion to several chains will be required for ERC20 / EVM coins)\n",
    "   - Format and clean data in unified dataframes"
   ]
  },
  {
   "cell_type": "code",
   "execution_count": null,
   "id": "e4c1b79e-43c8-4015-8373-ecd800b26c2c",
   "metadata": {},
   "outputs": [],
   "source": []
  }
 ],
 "metadata": {
  "kernelspec": {
   "display_name": "Python 3.10.7 ('env': venv)",
   "language": "python",
   "name": "python3"
  },
  "language_info": {
   "codemirror_mode": {
    "name": "ipython",
    "version": 3
   },
   "file_extension": ".py",
   "mimetype": "text/x-python",
   "name": "python",
   "nbconvert_exporter": "python",
   "pygments_lexer": "ipython3",
   "version": "3.10.7"
  },
  "vscode": {
   "interpreter": {
    "hash": "d2930b23955016626810d0ea9c724d17f422e1cb740a97e35a074681bc3bff1c"
   }
  }
 },
 "nbformat": 4,
 "nbformat_minor": 5
}
