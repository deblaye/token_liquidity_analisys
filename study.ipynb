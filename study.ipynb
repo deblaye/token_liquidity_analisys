{
 "cells": [
  {
   "cell_type": "markdown",
   "metadata": {},
   "source": [
    "# Index\n",
    "- Framework and problematic\n",
    "- State of the art\n",
    "- Assumptions and theory\n",
    "- Gather data\n",
    "- Format data\n",
    "- Plot and interpret\n",
    "- Include live plotting in dashboard\n",
    "- Conclusion"
   ]
  },
  {
   "cell_type": "markdown",
   "metadata": {},
   "source": []
  }
 ],
 "metadata": {
  "kernelspec": {
   "display_name": "Python 3.10.7 ('env': venv)",
   "language": "python",
   "name": "python3"
  },
  "language_info": {
   "name": "python",
   "version": "3.10.7"
  },
  "orig_nbformat": 4,
  "vscode": {
   "interpreter": {
    "hash": "d2930b23955016626810d0ea9c724d17f422e1cb740a97e35a074681bc3bff1c"
   }
  }
 },
 "nbformat": 4,
 "nbformat_minor": 2
}
