{
 "cells": [
  {
   "cell_type": "markdown",
   "metadata": {},
   "source": [
    "# Index\n",
    "- Framework and problematic\n",
    "- State of the art\n",
    "- Assumptions and hypotheses\n",
    "- Gather data\n",
    "    - CEXs exchange data\n",
    "    - DEXs liquidity pools data\n",
    "- Format data\n",
    "- Plot and interpret\n",
    "- Include live plotting in dashboard\n",
    "- Conclusion"
   ]
  },
  {
   "cell_type": "markdown",
   "metadata": {},
   "source": [
    "# Framework and problematic\n",
    "\n",
    "Centralized and decentralized crypto market are open 24/7. Therefore, studying the intraday volume and volatility depending on the day of the week, hours of the day... can be extremely valuable in order to forcast those same data to make wise investing choices.\n",
    "The change of value locked in the different pools of DEXs, will also be studied here.\n",
    "\n",
    "The purpose of this study is to first, determine if any patterns exist, and if so, identify and understand them."
   ]
  },
  {
   "cell_type": "markdown",
   "metadata": {},
   "source": [
    "# State of the art\n",
    "\n",
    "The literature on the subject seems to be quite poor. I was able to find some studies about the intraday volume in the stock market. The way they operate and interpret the data is interesting, but totally irrelevant considering crypto, as the stock market has an open and a close time. \n",
    "Even if this is not relevant for crypto, those open and close times seem to be moments of bigger activity on the market, that could be a starting assumption that we will try to verify in that study. I also found a paper analysing the link between volume and return in the intra day crypto market.\n",
    "\n",
    "[Relationship Between Valume and Return](https://deliverypdf.ssrn.com/delivery.php?ID=727098123007095069093073113121017072052025093049028051091112064078023028070111079018029005000115006016107028028096093031101079019007013060013106127065029027001084075025087028007100088066104085022089064005097006028067072000108094113023096027069070098110&EXT=pdf&INDEX=TRUE)\n",
    "\n",
    "This study aims to verify that : \"increased attention around particular assets coupled with investors’ overconfidence encourages individuals to make investment decision which, therefore, has an influence on changes in the trading volume.\"\n",
    "It shows that this fact is also observed in the crypto market, also pointing that crypto traders tend to follow trends, as they put it : \"patterns of collective behaviour\".\n",
    "An other intersting things they higligh is the leading status of bitcoin.\n",
    "###### note : in their conclusion, they propose to classify the crypto assets by investor sentiment using trend tools such as Twitter, Google... I think it could be interesting to go even further, for instance, to observe if the influence of the trends on the intraday volume. It could be interesting to figure out if the volume is influenced by the trends, or if the trends are influenced by the volume.\n",
    "\n",
    "\n",
    "[A Practical Model For Prediction of Intraday Volatility](https://assets.bbhub.io/professional/sites/10/intraday_volatility-3.pdf)\n",
    "\n",
    "This paper highlights how the intra day volatility moves in the stock market. It shows that the weel known fact that small cap securities have a greater volatility, is not as obvious in the intra day market as it is on the daily. It also demonstrate that European stock markets are influenced by the opening and closing times of the US stock market.\n",
    "\n",
    "\n"
   ]
  },
  {
   "cell_type": "markdown",
   "metadata": {},
   "source": [
    "# Assumptions and hypothesis\n",
    "\n",
    "- The intraday volume of the crypto market is highly influenced by the opening and closing time of the US stock market\n",
    "- BTC is a leading element in therm of volume increase, but the alt coins are leading the BTC in therm of volume decrease"
   ]
  },
  {
   "cell_type": "markdown",
   "metadata": {},
   "source": []
  }
 ],
 "metadata": {
  "kernelspec": {
   "display_name": "Python 3.10.7 ('env': venv)",
   "language": "python",
   "name": "python3"
  },
  "language_info": {
   "name": "python",
   "version": "3.10.7"
  },
  "orig_nbformat": 4,
  "vscode": {
   "interpreter": {
    "hash": "d2930b23955016626810d0ea9c724d17f422e1cb740a97e35a074681bc3bff1c"
   }
  }
 },
 "nbformat": 4,
 "nbformat_minor": 2
}
